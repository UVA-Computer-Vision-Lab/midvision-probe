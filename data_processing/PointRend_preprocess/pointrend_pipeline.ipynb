{
 "cells": [
  {
   "cell_type": "code",
   "execution_count": null,
   "metadata": {},
   "outputs": [],
   "source": [
    "import detectron2\n",
    "from detectron2.utils.logger import setup_logger\n",
    "setup_logger()\n",
    "\n",
    "# import some common libraries\n",
    "import numpy as np\n",
    "import cv2\n",
    "import torch\n",
    "# from google.colab.patches import cv2_imshow\n",
    "# import some common detectron2 utilities\n",
    "from detectron2 import model_zoo\n",
    "from detectron2.engine import DefaultPredictor\n",
    "from detectron2.config import get_cfg\n",
    "from detectron2.utils.visualizer import Visualizer, ColorMode\n",
    "from detectron2.data import MetadataCatalog\n",
    "coco_metadata = MetadataCatalog.get(\"coco_2017_val\")\n",
    "import matplotlib.pyplot as plt\n",
    "\n",
    "# import PointRend project\n",
    "from detectron2.projects import point_rend"
   ]
  },
  {
   "cell_type": "code",
   "execution_count": null,
   "metadata": {},
   "outputs": [],
   "source": [
    "# !wget http://images.cocodataset.org/val2017/000000005477.jpg -q -O input.jpg\n",
    "im = cv2.imread(\"/p/openvocabdustr/probing_midlevel_vision/data/rgb/taskonomy/marstons/point_0_view_0_domain_rgb.png\")"
   ]
  },
  {
   "cell_type": "code",
   "execution_count": null,
   "metadata": {},
   "outputs": [],
   "source": [
    "im.shape"
   ]
  },
  {
   "cell_type": "code",
   "execution_count": null,
   "metadata": {},
   "outputs": [],
   "source": [
    "# Convert the image from BGR (OpenCV's default) to RGB for proper display with matplotlib\n",
    "im_rgb = cv2.cvtColor(im, cv2.COLOR_BGR2RGB)\n",
    "\n",
    "# Display the image using matplotlib\n",
    "plt.imshow(im_rgb)\n",
    "plt.axis('off')  # Hide the axis\n",
    "plt.show()"
   ]
  },
  {
   "cell_type": "code",
   "execution_count": null,
   "metadata": {},
   "outputs": [],
   "source": [
    "cfg = get_cfg()\n",
    "# Add PointRend-specific config\n",
    "point_rend.add_pointrend_config(cfg)\n",
    "# Load a config from file\n",
    "cfg.merge_from_file(\"/p/openvocabdustr/probing_midlevel_vision/code/detectron2_repo/projects/PointRend/configs/InstanceSegmentation/pointrend_rcnn_X_101_32x8d_FPN_3x_coco.yaml\")\n",
    "cfg.MODEL.ROI_HEADS.SCORE_THRESH_TEST = 0.5  # set threshold for this model\n",
    "# Use a model from PointRend model zoo: https://github.com/facebookresearch/detectron2/tree/master/projects/PointRend#pretrained-models\n",
    "cfg.MODEL.WEIGHTS = \"https://dl.fbaipublicfiles.com/detectron2/PointRend/InstanceSegmentation/pointrend_rcnn_X_101_32x8d_FPN_3x_coco/28119989/model_final_ba17b9.pkl\"\n",
    "predictor = DefaultPredictor(cfg)"
   ]
  },
  {
   "cell_type": "code",
   "execution_count": null,
   "metadata": {},
   "outputs": [],
   "source": [
    "outputs = predictor(im)"
   ]
  },
  {
   "cell_type": "code",
   "execution_count": null,
   "metadata": {},
   "outputs": [],
   "source": [
    "from detectron2.utils.visualizer import ColorMode\n",
    "\n",
    "# Modify the Visualizer to only draw masks and not bounding boxes\n",
    "v = Visualizer(im[:, :, ::-1], coco_metadata, scale=1.2, instance_mode=ColorMode.IMAGE_BW)\n",
    "point_rend_result = v.overlay_instances(masks=outputs[\"instances\"].pred_masks.to(\"cpu\")).get_image()\n",
    "\n",
    "# Display the result with only masks\n",
    "plt.imshow(point_rend_result[:, :, ::-1])  # Convert from BGR to RGB for correct display\n",
    "plt.axis('off')  # Hide axis for cleaner visualization\n",
    "plt.show()"
   ]
  },
  {
   "cell_type": "code",
   "execution_count": null,
   "metadata": {},
   "outputs": [],
   "source": [
    "import matplotlib.pyplot as plt\n",
    "import torch\n",
    "\n",
    "# Assuming outputs[\"instances\"] contains the prediction results\n",
    "instances = outputs[\"instances\"].to(\"cpu\")\n",
    "pred_masks = instances.pred_masks  # Binary masks for each object\n",
    "pred_classes = instances.pred_classes  # Class indices for each object\n",
    "\n",
    "# Assuming you have the COCO class names\n",
    "coco_classes = coco_metadata.get(\"thing_classes\", None)  # List of object names\n",
    "\n",
    "# Iterate over each mask and class\n",
    "for i in range(len(pred_masks)):\n",
    "    mask = pred_masks[i].numpy()  # Convert the mask to a numpy array (binary mask)\n",
    "    class_idx = pred_classes[i].item()  # Get the class index\n",
    "    class_name = coco_classes[class_idx]  # Get the class name from the COCO metadata\n",
    "    \n",
    "    # Display the binary mask and class name\n",
    "    print(f\"Object {i + 1}: {class_name}\")\n",
    "    \n",
    "    plt.imshow(mask, cmap=\"gray\")  # Display the binary mask in grayscale\n",
    "    plt.title(f\"Object {i + 1}: {class_name}\")\n",
    "    plt.axis('off')  # Hide axis for cleaner display\n",
    "    plt.show()"
   ]
  },
  {
   "cell_type": "code",
   "execution_count": null,
   "metadata": {},
   "outputs": [],
   "source": []
  }
 ],
 "metadata": {
  "kernelspec": {
   "display_name": "Python 3",
   "language": "python",
   "name": "python3"
  },
  "language_info": {
   "codemirror_mode": {
    "name": "ipython",
    "version": 3
   },
   "file_extension": ".py",
   "mimetype": "text/x-python",
   "name": "python",
   "nbconvert_exporter": "python",
   "pygments_lexer": "ipython3",
   "version": "3.11.10"
  }
 },
 "nbformat": 4,
 "nbformat_minor": 2
}
